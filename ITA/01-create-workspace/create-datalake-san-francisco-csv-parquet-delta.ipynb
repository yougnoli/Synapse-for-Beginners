{
  "cells": [
    {
      "cell_type": "code",
      "source": [
        "print('ready')"
      ],
      "outputs": [
        {
          "output_type": "display_data",
          "data": {
            "application/vnd.livy.statement-meta+json": {
              "spark_pool": "SparkPool01",
              "session_id": "2",
              "statement_id": 1,
              "state": "finished",
              "livy_statement_state": "available",
              "queued_time": "2022-12-05T15:17:34.1322518Z",
              "session_start_time": "2022-12-05T15:17:34.1845493Z",
              "execution_start_time": "2022-12-05T15:22:06.474719Z",
              "execution_finish_time": "2022-12-05T15:22:06.6617656Z",
              "spark_jobs": null
            },
            "text/plain": "StatementMeta(SparkPool01, 2, 1, Finished, Available)"
          },
          "metadata": {}
        },
        {
          "output_type": "stream",
          "name": "stdout",
          "text": [
            "ready\n"
          ]
        }
      ],
      "execution_count": 1,
      "metadata": {
        "jupyter": {
          "source_hidden": false,
          "outputs_hidden": false
        },
        "nteract": {
          "transient": {
            "deleting": false
          }
        }
      }
    },
    {
      "cell_type": "code",
      "source": [
        "from azureml.opendatasets import SanFranciscoSafety\n",
        "\n",
        "data = SanFranciscoSafety()\n",
        "df = data.to_spark_dataframe()\n",
        "# Display 10 rows\n",
        "display(df.limit(10))\n",
        "df.printSchema()"
      ],
      "outputs": [
        {
          "output_type": "display_data",
          "data": {
            "application/vnd.livy.statement-meta+json": {
              "spark_pool": "SparkPool01",
              "session_id": "2",
              "statement_id": 2,
              "state": "finished",
              "livy_statement_state": "available",
              "queued_time": "2022-12-05T15:17:34.137337Z",
              "session_start_time": null,
              "execution_start_time": "2022-12-05T15:22:06.8758405Z",
              "execution_finish_time": "2022-12-05T15:23:22.8510702Z",
              "spark_jobs": null
            },
            "text/plain": "StatementMeta(SparkPool01, 2, 2, Finished, Available)"
          },
          "metadata": {}
        },
        {
          "output_type": "display_data",
          "data": {
            "application/vnd.synapse.widget-view+json": {
              "widget_id": "397a1e54-e1b7-475d-97d4-4101415c1139",
              "widget_type": "Synapse.DataFrame"
            },
            "text/plain": "SynapseWidget(Synapse.DataFrame, 397a1e54-e1b7-475d-97d4-4101415c1139)"
          },
          "metadata": {}
        },
        {
          "output_type": "stream",
          "name": "stdout",
          "text": [
            "root\n |-- dataType: string (nullable = true)\n |-- dataSubtype: string (nullable = true)\n |-- dateTime: timestamp (nullable = true)\n |-- category: string (nullable = true)\n |-- subcategory: string (nullable = true)\n |-- status: string (nullable = true)\n |-- address: string (nullable = true)\n |-- latitude: double (nullable = true)\n |-- longitude: double (nullable = true)\n |-- source: string (nullable = true)\n |-- extendedProperties: string (nullable = true)\n\n"
          ]
        }
      ],
      "execution_count": 2,
      "metadata": {
        "collapsed": false
      }
    },
    {
      "cell_type": "code",
      "source": [
        "from pyspark.sql.functions import lpad, col, month, year, dayofmonth\r\n",
        "from pyspark.sql.types import datetime"
      ],
      "outputs": [
        {
          "output_type": "display_data",
          "data": {
            "application/vnd.livy.statement-meta+json": {
              "spark_pool": "SparkPool01",
              "session_id": "2",
              "statement_id": 3,
              "state": "finished",
              "livy_statement_state": "available",
              "queued_time": "2022-12-05T15:17:34.1392173Z",
              "session_start_time": null,
              "execution_start_time": "2022-12-05T15:23:23.0293499Z",
              "execution_finish_time": "2022-12-05T15:23:23.239116Z",
              "spark_jobs": null
            },
            "text/plain": "StatementMeta(SparkPool01, 2, 3, Finished, Available)"
          },
          "metadata": {}
        }
      ],
      "execution_count": 3,
      "metadata": {
        "jupyter": {
          "source_hidden": false,
          "outputs_hidden": false
        },
        "nteract": {
          "transient": {
            "deleting": false
          }
        }
      }
    },
    {
      "cell_type": "code",
      "source": [
        "df.columns"
      ],
      "outputs": [
        {
          "output_type": "display_data",
          "data": {
            "application/vnd.livy.statement-meta+json": {
              "spark_pool": "SparkPool01",
              "session_id": "2",
              "statement_id": 4,
              "state": "finished",
              "livy_statement_state": "available",
              "queued_time": "2022-12-05T15:17:34.1407939Z",
              "session_start_time": null,
              "execution_start_time": "2022-12-05T15:23:23.3705731Z",
              "execution_finish_time": "2022-12-05T15:23:23.5665847Z",
              "spark_jobs": null
            },
            "text/plain": "StatementMeta(SparkPool01, 2, 4, Finished, Available)"
          },
          "metadata": {}
        },
        {
          "output_type": "execute_result",
          "execution_count": 16,
          "data": {
            "text/plain": "['dataType',\n 'dataSubtype',\n 'dateTime',\n 'category',\n 'subcategory',\n 'status',\n 'address',\n 'latitude',\n 'longitude',\n 'source',\n 'extendedProperties']"
          },
          "metadata": {}
        }
      ],
      "execution_count": 4,
      "metadata": {
        "jupyter": {
          "source_hidden": false,
          "outputs_hidden": false
        },
        "nteract": {
          "transient": {
            "deleting": false
          }
        }
      }
    },
    {
      "cell_type": "code",
      "source": [
        "df_date = (df.select('dataType',\r\n",
        "                    'dataSubtype',\r\n",
        "                    'dateTime',\r\n",
        "                    'category',\r\n",
        "                    'subcategory',\r\n",
        "                    'status',\r\n",
        "                    'address',\r\n",
        "                    'latitude',\r\n",
        "                    'longitude',\r\n",
        "                    'source',\r\n",
        "                    'extendedProperties',\r\n",
        "                    year('dateTime').alias('year'), \r\n",
        "                    lpad(month('dateTime'), 2, '0').alias('month'),\r\n",
        "                    lpad(dayofmonth('dateTime'), 2, '0').alias('day_month')\r\n",
        "                    )\r\n",
        "            )\r\n",
        "\r\n",
        "df_date.printSchema()"
      ],
      "outputs": [
        {
          "output_type": "display_data",
          "data": {
            "application/vnd.livy.statement-meta+json": {
              "spark_pool": "SparkPool01",
              "session_id": "2",
              "statement_id": 5,
              "state": "finished",
              "livy_statement_state": "available",
              "queued_time": "2022-12-05T15:17:34.1428766Z",
              "session_start_time": null,
              "execution_start_time": "2022-12-05T15:23:23.6970925Z",
              "execution_finish_time": "2022-12-05T15:23:24.3284394Z",
              "spark_jobs": null
            },
            "text/plain": "StatementMeta(SparkPool01, 2, 5, Finished, Available)"
          },
          "metadata": {}
        },
        {
          "output_type": "stream",
          "name": "stdout",
          "text": [
            "root\n |-- dataType: string (nullable = true)\n |-- dataSubtype: string (nullable = true)\n |-- dateTime: timestamp (nullable = true)\n |-- category: string (nullable = true)\n |-- subcategory: string (nullable = true)\n |-- status: string (nullable = true)\n |-- address: string (nullable = true)\n |-- latitude: double (nullable = true)\n |-- longitude: double (nullable = true)\n |-- source: string (nullable = true)\n |-- extendedProperties: string (nullable = true)\n |-- year: integer (nullable = true)\n |-- month: string (nullable = true)\n |-- day_month: string (nullable = true)\n\n"
          ]
        }
      ],
      "execution_count": 5,
      "metadata": {
        "jupyter": {
          "source_hidden": false,
          "outputs_hidden": false
        },
        "nteract": {
          "transient": {
            "deleting": false
          }
        },
        "collapsed": false
      }
    },
    {
      "cell_type": "code",
      "source": [
        "(df_date.write\r\n",
        ".format('csv')\r\n",
        ".mode('overwrite')\r\n",
        ".partitionBy('year', 'month', 'day_month')\r\n",
        ".option('sep', '|')\r\n",
        ".option('header', True)\r\n",
        ".save('abfss://container01@dlsyntestmm.dfs.core.windows.net/sanfrancisco/csv'))"
      ],
      "outputs": [
        {
          "output_type": "display_data",
          "data": {
            "application/vnd.livy.statement-meta+json": {
              "spark_pool": "SparkPool01",
              "session_id": "2",
              "statement_id": 9,
              "state": "finished",
              "livy_statement_state": "available",
              "queued_time": "2022-12-05T15:36:20.5431921Z",
              "session_start_time": null,
              "execution_start_time": "2022-12-05T15:36:20.6967067Z",
              "execution_finish_time": "2022-12-05T16:34:15.442759Z",
              "spark_jobs": null
            },
            "text/plain": "StatementMeta(SparkPool01, 2, 9, Finished, Available)"
          },
          "metadata": {}
        }
      ],
      "execution_count": 9,
      "metadata": {
        "jupyter": {
          "source_hidden": false,
          "outputs_hidden": false
        },
        "nteract": {
          "transient": {
            "deleting": false
          }
        }
      }
    },
    {
      "cell_type": "code",
      "source": [
        "df_date.write.format('parquet').mode('overwrite').partitionBy('year', 'month', 'day_month').save('abfss://container01@dlsyntestmm.dfs.core.windows.net/sanfrancisco/parquet')"
      ],
      "outputs": [
        {
          "output_type": "display_data",
          "data": {
            "application/vnd.livy.statement-meta+json": {
              "spark_pool": "SparkPool01",
              "session_id": "2",
              "statement_id": 10,
              "state": "finished",
              "livy_statement_state": "available",
              "queued_time": "2022-12-05T16:34:30.7055437Z",
              "session_start_time": null,
              "execution_start_time": "2022-12-05T16:34:30.8869742Z",
              "execution_finish_time": "2022-12-05T17:22:37.3743874Z",
              "spark_jobs": null
            },
            "text/plain": "StatementMeta(SparkPool01, 2, 10, Finished, Available)"
          },
          "metadata": {}
        }
      ],
      "execution_count": 10,
      "metadata": {
        "jupyter": {
          "source_hidden": false,
          "outputs_hidden": false
        },
        "nteract": {
          "transient": {
            "deleting": false
          }
        },
        "collapsed": false
      }
    },
    {
      "cell_type": "code",
      "source": [
        "df_date.write.format('delta').mode('overwrite').partitionBy('year', 'month', 'day_month').save('abfss://container01@dlsyntestmm.dfs.core.windows.net/sanfrancisco/delta')"
      ],
      "outputs": [
        {
          "output_type": "display_data",
          "data": {
            "application/vnd.livy.statement-meta+json": {
              "spark_pool": "SparkPool01",
              "session_id": "2",
              "statement_id": 11,
              "state": "finished",
              "livy_statement_state": "available",
              "queued_time": "2022-12-05T16:34:30.7615086Z",
              "session_start_time": null,
              "execution_start_time": "2022-12-05T17:22:37.5542964Z",
              "execution_finish_time": "2022-12-05T17:51:54.1340329Z",
              "spark_jobs": null
            },
            "text/plain": "StatementMeta(SparkPool01, 2, 11, Finished, Available)"
          },
          "metadata": {}
        }
      ],
      "execution_count": 11,
      "metadata": {
        "jupyter": {
          "source_hidden": false,
          "outputs_hidden": false
        },
        "nteract": {
          "transient": {
            "deleting": false
          }
        }
      }
    }
  ],
  "metadata": {
    "kernelspec": {
      "name": "synapse_pyspark",
      "language": "Python",
      "display_name": "Synapse PySpark"
    },
    "language_info": {
      "name": "python"
    },
    "kernel_info": {
      "name": "synapse_pyspark"
    },
    "description": null,
    "save_output": true,
    "synapse_widget": {
      "version": "0.1",
      "state": {
        "397a1e54-e1b7-475d-97d4-4101415c1139": {
          "type": "Synapse.DataFrame",
          "sync_state": {
            "table": {
              "rows": [
                {
                  "0": "Safety",
                  "1": "911_Fire",
                  "2": "2001-10-27 11:28:55",
                  "4": "Alarms",
                  "6": "600 Block of SAN JOSE AVE",
                  "7": "37.74473055186",
                  "8": "-122.422242631424",
                  "10": ""
                },
                {
                  "0": "Safety",
                  "1": "311_All",
                  "2": "2021-09-06 16:09:00",
                  "3": "Graffiti",
                  "4": "Graffiti on Other_enter_additional_details_below",
                  "5": "Closed",
                  "6": "Intersection of FILBERT ST and STOCKTON ST",
                  "7": "37.801382681363",
                  "8": "-122.409239766838",
                  "9": "Mobile/Open311",
                  "10": ""
                },
                {
                  "0": "Safety",
                  "1": "311_All",
                  "2": "2020-12-20 19:58:00",
                  "3": "Graffiti",
                  "4": "Graffiti on Other_enter_additional_details_below",
                  "5": "Closed",
                  "6": "2317 FULTON ST, SAN FRANCISCO, CA, 94118 (Virtual)",
                  "7": "37.77466667",
                  "8": "-122.45488667",
                  "9": "Mobile/Open311",
                  "10": ""
                },
                {
                  "0": "Safety",
                  "1": "311_All",
                  "2": "2013-05-04 19:02:19",
                  "3": "SFHA Requests",
                  "4": "Carpentery",
                  "5": "Closed",
                  "6": "9 BROOKDALE AVE, SAN FRANCISCO, CA, 94134",
                  "7": "37.711799621582",
                  "8": "-122.418998718262",
                  "9": "Phone",
                  "10": ""
                },
                {
                  "0": "Safety",
                  "1": "311_All",
                  "2": "2022-01-20 14:32:00",
                  "3": "Street and Sidewalk Cleaning",
                  "4": "Bulky Items",
                  "5": "Closed",
                  "6": "1052 IRVING ST, SAN FRANCISCO, CA, 94122",
                  "7": "37.763928836022",
                  "8": "-122.469113622052",
                  "9": "Mobile/Open311",
                  "10": ""
                },
                {
                  "0": "Safety",
                  "1": "911_Fire",
                  "2": "2020-06-23 12:59:33",
                  "3": "Potentially Life-Threatening",
                  "4": "Medical Incident",
                  "6": "500 Block of BEACH ST",
                  "7": "37.807022009709456",
                  "8": "-122.41809529520216",
                  "10": ""
                },
                {
                  "0": "Safety",
                  "1": "311_All",
                  "2": "2022-09-26 06:00:00",
                  "3": "Street and Sidewalk Cleaning",
                  "4": "General Cleaning",
                  "5": "Closed",
                  "6": "Intersection of GOUGH ST and FELL ST",
                  "7": "37.775965",
                  "8": "-122.4228143",
                  "9": "Web",
                  "10": ""
                },
                {
                  "0": "Safety",
                  "1": "311_All",
                  "2": "2014-09-26 10:26:47",
                  "3": "Damaged Property",
                  "4": "Damaged Parking_Meter",
                  "5": "Closed",
                  "6": "Intersection of PACIFIC AVE and MONTGOMERY ST",
                  "7": "37.797297201918",
                  "8": "-122.403678112534",
                  "9": "Phone",
                  "10": ""
                },
                {
                  "0": "Safety",
                  "1": "911_Fire",
                  "2": "2020-01-18 15:34:08",
                  "3": "Non Life-threatening",
                  "4": "Traffic Collision",
                  "6": "6TH ST/HOWARD ST",
                  "7": "37.7797389055689",
                  "8": "-122.407159489165",
                  "10": ""
                },
                {
                  "0": "Safety",
                  "1": "311_All",
                  "2": "2016-12-01 19:50:00",
                  "3": "Streetlights",
                  "4": "Streetlight - Light_Burnt_Out",
                  "5": "Closed",
                  "6": "803 COLUMBUS AVE, SAN FRANCISCO, CA, 94133",
                  "7": "37.802131652832",
                  "8": "-122.413124084473",
                  "9": "Phone",
                  "10": ""
                }
              ],
              "schema": [
                {
                  "key": "0",
                  "name": "dataType",
                  "type": "string"
                },
                {
                  "key": "1",
                  "name": "dataSubtype",
                  "type": "string"
                },
                {
                  "key": "2",
                  "name": "dateTime",
                  "type": "timestamp"
                },
                {
                  "key": "3",
                  "name": "category",
                  "type": "string"
                },
                {
                  "key": "4",
                  "name": "subcategory",
                  "type": "string"
                },
                {
                  "key": "5",
                  "name": "status",
                  "type": "string"
                },
                {
                  "key": "6",
                  "name": "address",
                  "type": "string"
                },
                {
                  "key": "7",
                  "name": "latitude",
                  "type": "double"
                },
                {
                  "key": "8",
                  "name": "longitude",
                  "type": "double"
                },
                {
                  "key": "9",
                  "name": "source",
                  "type": "string"
                },
                {
                  "key": "10",
                  "name": "extendedProperties",
                  "type": "string"
                }
              ],
              "truncated": false
            },
            "isSummary": false,
            "language": "scala"
          },
          "persist_state": {
            "view": {
              "type": "details",
              "tableOptions": {},
              "chartOptions": {
                "chartType": "bar",
                "aggregationType": "sum",
                "categoryFieldKeys": [
                  "0"
                ],
                "seriesFieldKeys": [
                  "7"
                ],
                "isStacked": false
              }
            }
          }
        }
      }
    }
  },
  "nbformat": 4,
  "nbformat_minor": 2
}